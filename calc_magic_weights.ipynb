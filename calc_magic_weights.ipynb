{
 "cells": [
  {
   "cell_type": "code",
   "execution_count": null,
   "metadata": {},
   "outputs": [],
   "source": [
    "import numpy as np\n",
    "import sys\n",
    "from multiprocessing import Queue, Process\n",
    "import matplotlib\n",
    "#matplotlib.use('Agg') #for using this notebook as script\n",
    "\n",
    "import matplotlib.pyplot as plt\n",
    "\n",
    "from definitions_pre import *\n",
    "\n",
    "import data_utils\n",
    "data_utils.init(\"definitions_pre\")\n",
    "\n",
    "import model_utils\n",
    "model_utils.init(\"definitions_pre\")"
   ]
  },
  {
   "cell_type": "code",
   "execution_count": null,
   "metadata": {},
   "outputs": [],
   "source": [
    "discrete_images_queue = Queue(10)\n",
    "tasks = data_utils.populate_pre_train_queues(discrete_images_queue) "
   ]
  },
  {
   "cell_type": "code",
   "execution_count": null,
   "metadata": {},
   "outputs": [],
   "source": [
    "Asum = np.zeros(16)\n",
    "Bsum = Asum\n",
    "for k in range(40000//BATCH_SIZE):\n",
    "    L,a,b = discrete_images_queue.get()\n",
    "    Asum = np.sum(np.sum(np.sum(a,0),0),0)\n",
    "    Bsum = np.sum(np.sum(np.sum(b,0),0),0)\n",
    "    if k % 50 == 0:\n",
    "        print(k)"
   ]
  },
  {
   "cell_type": "code",
   "execution_count": null,
   "metadata": {},
   "outputs": [],
   "source": [
    "x = 1/(Asum+1) * (Asum>0)\n",
    "x/np.sum(x) "
   ]
  },
  {
   "cell_type": "code",
   "execution_count": null,
   "metadata": {},
   "outputs": [],
   "source": [
    "x = 1/(Bsum+1) * (Bsum>0)\n",
    "x/np.sum(x) "
   ]
  },
  {
   "cell_type": "code",
   "execution_count": null,
   "metadata": {},
   "outputs": [],
   "source": [
    "np.sum(Out[5])"
   ]
  },
  {
   "cell_type": "code",
   "execution_count": null,
   "metadata": {},
   "outputs": [],
   "source": []
  }
 ],
 "metadata": {
  "kernelspec": {
   "display_name": "Python 3",
   "language": "python",
   "name": "python3"
  },
  "language_info": {
   "codemirror_mode": {
    "name": "ipython",
    "version": 3
   },
   "file_extension": ".py",
   "mimetype": "text/x-python",
   "name": "python",
   "nbconvert_exporter": "python",
   "pygments_lexer": "ipython3",
   "version": "3.6.7"
  }
 },
 "nbformat": 4,
 "nbformat_minor": 2
}
