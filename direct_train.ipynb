{
 "cells": [
  {
   "cell_type": "code",
   "execution_count": null,
   "metadata": {},
   "outputs": [],
   "source": [
    "import numpy as np\n",
    "import sys\n",
    "from multiprocessing import Queue, Process\n",
    "import matplotlib\n",
    "#matplotlib.use('Agg') #for using this notebook as script\n",
    "from IPython import display as jupyter\n",
    "\n",
    "import matplotlib.pyplot as plt\n",
    "\n",
    "from definitions_direct import *\n",
    "\n",
    "import data_utils\n",
    "data_utils.init(\"definitions_direct\")\n",
    "\n",
    "import model_utils\n",
    "model_utils.init(\"definitions_direct\")"
   ]
  },
  {
   "cell_type": "code",
   "execution_count": null,
   "metadata": {},
   "outputs": [],
   "source": [
    "# define and compile models\n",
    "pre_generator, generator = model_utils.generate_and_compile_only_generator_models()"
   ]
  },
  {
   "cell_type": "code",
   "execution_count": null,
   "metadata": {},
   "outputs": [],
   "source": [
    "# populate data souce\n",
    "discrete_images_queue = Queue(10)\n",
    "tasks = data_utils.populate_pre_train_queues(discrete_images_queue)"
   ]
  },
  {
   "cell_type": "code",
   "execution_count": null,
   "metadata": {},
   "outputs": [],
   "source": [
    "# load pre trained weights\n",
    "generator.load_weights(\"d:/downloads/models/directV3/fields/generator.model\")"
   ]
  },
  {
   "cell_type": "code",
   "execution_count": null,
   "metadata": {
    "scrolled": false
   },
   "outputs": [],
   "source": [
    "running_train_loss = 0\n",
    "train_history = [100]\n",
    "decay = 0.9    \n",
    "for iteration in range(10000*20):\n",
    "    batch_L, batch_a, batch_b = discrete_images_queue.get()\n",
    "    losses = pre_generator.train_on_batch(batch_L, [batch_a, batch_b])\n",
    "    running_train_loss = (decay * running_train_loss + losses[0] + losses[1]) / (1 + decay)\n",
    "    train_history.append(losses)\n",
    "\n",
    "    if iteration % 25 == 0:\n",
    "        data_utils.save_discrete_images(discrete_images_queue, pre_generator)\n",
    "        pre_generator.save(\"pre_generator.model\")\n",
    "        jupyter.clear_output(wait=True)\n",
    "    \n",
    "    print(\"Averaged training loss=%f, Iteration=%d\" % (running_train_loss, iteration))"
   ]
  },
  {
   "cell_type": "code",
   "execution_count": null,
   "metadata": {},
   "outputs": [],
   "source": [
    "pre_generator.save(\"pre_generator.model\")"
   ]
  },
  {
   "cell_type": "code",
   "execution_count": null,
   "metadata": {},
   "outputs": [],
   "source": []
  }
 ],
 "metadata": {
  "kernelspec": {
   "display_name": "Python 3",
   "language": "python",
   "name": "python3"
  },
  "language_info": {
   "codemirror_mode": {
    "name": "ipython",
    "version": 3
   },
   "file_extension": ".py",
   "mimetype": "text/x-python",
   "name": "python",
   "nbconvert_exporter": "python",
   "pygments_lexer": "ipython3",
   "version": "3.6.7"
  }
 },
 "nbformat": 4,
 "nbformat_minor": 2
}
