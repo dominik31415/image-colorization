{
 "cells": [
  {
   "cell_type": "code",
   "execution_count": null,
   "metadata": {},
   "outputs": [],
   "source": [
    "import numpy as np\n",
    "import sys\n",
    "from multiprocessing import Queue, Process\n",
    "import matplotlib\n",
    "matplotlib.use('Agg') #for using this notebook as script\n",
    "from IPython import display as jupyter\n",
    "#import matplotlib.pyplot as plt\n",
    "\n",
    "# load global constants\n",
    "from definitions_plot import *\n",
    "\n",
    "import data_utils_plot\n",
    "data_utils_plot.init(\"definitions_plot\")\n",
    "\n",
    "import model_utils\n",
    "model_utils.init(\"definitions_plot\")"
   ]
  },
  {
   "cell_type": "code",
   "execution_count": null,
   "metadata": {},
   "outputs": [],
   "source": [
    "from skimage import color, transform\n",
    "import matplotlib.pyplot as plt\n",
    "import imageio"
   ]
  },
  {
   "cell_type": "code",
   "execution_count": null,
   "metadata": {},
   "outputs": [],
   "source": [
    "# load generator after adverserial training\n",
    "pre_generator, adverserial_model, generator_trainer, critic, critic_trainer = model_utils.generate_and_compile_models()\n",
    "adverserial_model.load_weights(\"d:/downloads/models/wgan_c/wildV7/2/generator.model\") "
   ]
  },
  {
   "cell_type": "code",
   "execution_count": null,
   "metadata": {},
   "outputs": [],
   "source": [
    "# load generator after direct training with cross-entropy loss\n",
    "direct_model, generator, generator_trainer, critic, critic_trainer = model_utils.generate_and_compile_models()\n",
    "direct_model.load_weights(\"d:/downloads/models/directV3/fields/pre_generator.model\")"
   ]
  },
  {
   "cell_type": "code",
   "execution_count": null,
   "metadata": {},
   "outputs": [],
   "source": [
    "%matplotlib inline"
   ]
  },
  {
   "cell_type": "code",
   "execution_count": null,
   "metadata": {},
   "outputs": [],
   "source": [
    "# load data\n",
    "full_images_queue = Queue(1)\n",
    "tasks = data_utils_plot.populate_trainer_queues(full_images_queue)"
   ]
  },
  {
   "cell_type": "code",
   "execution_count": null,
   "metadata": {},
   "outputs": [],
   "source": [
    "\"\"\"\n",
    "the pre_generator uses cross entropy and yields predictions for a/b in a one-hot-encoded format\n",
    "this function extracts the most likely image\n",
    "\"\"\"\n",
    "def get_most_likely_image(L_batch, direct_batch):\n",
    "    a, b = direct_batch\n",
    "    rgb_batch = []\n",
    "    for ind in range(L_batch.shape[0]):\n",
    "        a_gen = data_utils_plot.decode_bin(np.argmax(a[ind, :, :, :], axis=-1)).reshape(IMAGE_SHAPE_1)\n",
    "        b_gen = data_utils_plot.decode_bin(np.argmax(b[ind, :, :, :], axis=-1)).reshape(IMAGE_SHAPE_1)\n",
    "        Lab_gen = np.concatenate([L_batch[ind,:,:,:], a_gen, b_gen], -1)\n",
    "        rgb_gen = color.lab2rgb((Lab_gen * 100).astype(np.float64))\n",
    "        rgb_batch.append(rgb_gen)\n",
    "    return np.stack(rgb_batch)   "
   ]
  },
  {
   "cell_type": "code",
   "execution_count": null,
   "metadata": {},
   "outputs": [],
   "source": [
    "counter = 8"
   ]
  },
  {
   "cell_type": "code",
   "execution_count": null,
   "metadata": {},
   "outputs": [],
   "source": [
    "# inference\n",
    "img_batch = full_images_queue.get()\n",
    "L_batch = img_batch[:,:,:,0].reshape(BATCH_SHAPE_1)\n",
    "adverserial_images = adverserial_model.predict(L_batch)\n",
    "direct_batch = direct_model.predict(L_batch)\n",
    "direct_images = get_most_likely_image(L_batch, direct_batch)"
   ]
  },
  {
   "cell_type": "code",
   "execution_count": null,
   "metadata": {},
   "outputs": [],
   "source": [
    "\"\"\"\n",
    "generates 4 images: raw, grey, generator after pre-training, generator after WGAN\n",
    "\"\"\"\n",
    "for k in range(6):    \n",
    "    # grey image\n",
    "    img = np.repeat(L_batch[k,:,:],3,-1).reshape(IMAGE_SHAPE_3)\n",
    "    img = (img*255).astype(np.uint8)\n",
    "    name = \"./demo/grey_%d_%d.png\" % (k, counter)\n",
    "    imageio.imwrite(name, img)\n",
    "    \n",
    "    # plotting and saving adverserial images\n",
    "    img = color.lab2rgb(adverserial_images[k,:,:,:]*100)\n",
    "    img = (img*255).astype(np.uint8)\n",
    "    name = \"./demo/adverserial_%d_%d.png\" % (k, counter)\n",
    "    imageio.imwrite(name, img)\n",
    "    \n",
    "    # plotting and saving pre_generator images\n",
    "    img = direct_images[k,:,:,:]\n",
    "    img = (img*255).astype(np.uint8)\n",
    "    name = \"./demo/direct_%d_%d.png\" % (k, counter)\n",
    "    imageio.imwrite(name, img)\n",
    "    \n",
    "    # plotting and saving raw images\n",
    "    img = color.lab2rgb(img_batch[k,:,:,:]*100)\n",
    "    img = (img*255).astype(np.uint8)\n",
    "    name = \"./demo/raw_%d_%d.png\" % (k, counter)\n",
    "    imageio.imwrite(name, img)"
   ]
  },
  {
   "cell_type": "code",
   "execution_count": null,
   "metadata": {},
   "outputs": [],
   "source": []
  }
 ],
 "metadata": {
  "kernelspec": {
   "display_name": "Python 3",
   "language": "python",
   "name": "python3"
  },
  "language_info": {
   "codemirror_mode": {
    "name": "ipython",
    "version": 3
   },
   "file_extension": ".py",
   "mimetype": "text/x-python",
   "name": "python",
   "nbconvert_exporter": "python",
   "pygments_lexer": "ipython3",
   "version": "3.6.7"
  }
 },
 "nbformat": 4,
 "nbformat_minor": 2
}
